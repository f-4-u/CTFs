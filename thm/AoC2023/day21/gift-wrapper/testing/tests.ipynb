{
 "cells": [
  {
   "cell_type": "code",
   "execution_count": 1,
   "metadata": {},
   "outputs": [
    {
     "name": "stderr",
     "output_type": "stream",
     "text": [
      "/home/manu/mambaforge/envs/gift/lib/python3.11/site-packages/paramiko/transport.py:219: CryptographyDeprecationWarning: Blowfish has been deprecated\n",
      "  \"class\": algorithms.Blowfish,\n"
     ]
    }
   ],
   "source": [
    "import pathlib\n",
    "import os\n",
    "import filecmp\n",
    "\n",
    "import gift_wrapper.core"
   ]
  },
  {
   "attachments": {},
   "cell_type": "markdown",
   "metadata": {},
   "source": [
    "The file containing the *expected* output"
   ]
  },
  {
   "cell_type": "code",
   "execution_count": 2,
   "metadata": {},
   "outputs": [
    {
     "data": {
      "text/plain": [
       "PosixPath('desired.gift.txt')"
      ]
     },
     "execution_count": 2,
     "metadata": {},
     "output_type": "execute_result"
    }
   ],
   "source": [
    "desired_output_file = pathlib.Path('desired.gift.txt')\n",
    "desired_output_file"
   ]
  },
  {
   "attachments": {},
   "cell_type": "markdown",
   "metadata": {},
   "source": [
    "A list with tuples `(directory, input_file)` specifying the relevant data for each test case."
   ]
  },
  {
   "cell_type": "code",
   "execution_count": 3,
   "metadata": {},
   "outputs": [
    {
     "data": {
      "text/plain": [
       "[('1', 'sample.yaml'),\n",
       " ('2', 'first_midterm.yaml'),\n",
       " ('3', 'first_midterm.yaml'),\n",
       " ('4', 'primer_parcial.yaml')]"
      ]
     },
     "execution_count": 3,
     "metadata": {},
     "output_type": "execute_result"
    }
   ],
   "source": [
    "subdir_filename = [\n",
    "    ('1', 'sample.yaml'),\n",
    "    ('2', 'first_midterm.yaml'),\n",
    "    ('3', 'first_midterm.yaml'),\n",
    "    ('4', 'primer_parcial.yaml'),\n",
    "    ]\n",
    "subdir_filename"
   ]
  },
  {
   "attachments": {},
   "cell_type": "markdown",
   "metadata": {},
   "source": [
    "The current working directory"
   ]
  },
  {
   "cell_type": "code",
   "execution_count": 4,
   "metadata": {},
   "outputs": [
    {
     "data": {
      "text/plain": [
       "PosixPath('/home/manu/Sync/git/gift-wrapper/testing')"
      ]
     },
     "execution_count": 4,
     "metadata": {},
     "output_type": "execute_result"
    }
   ],
   "source": [
    "cwd = pathlib.Path.cwd()\n",
    "cwd"
   ]
  },
  {
   "attachments": {},
   "cell_type": "markdown",
   "metadata": {},
   "source": [
    "The parameters file used is the *default* one in the root directory of the project."
   ]
  },
  {
   "cell_type": "code",
   "execution_count": 5,
   "metadata": {},
   "outputs": [
    {
     "name": "stdout",
     "output_type": "stream",
     "text": [
      "/home/manu/Sync/git/gift-wrapper/parameters.yaml\n"
     ]
    }
   ],
   "source": [
    "parameters_file = cwd.parent / 'parameters.yaml'\n",
    "print(parameters_file)\n",
    "assert parameters_file.exists()"
   ]
  },
  {
   "attachments": {},
   "cell_type": "markdown",
   "metadata": {},
   "source": [
    "We go through every test *sub*directory"
   ]
  },
  {
   "cell_type": "code",
   "execution_count": 6,
   "metadata": {},
   "outputs": [
    {
     "name": "stdout",
     "output_type": "stream",
     "text": [
      "processing /home/manu/Sync/git/gift-wrapper/testing/1/sample.yaml...\n",
      "--------------------\n"
     ]
    },
    {
     "name": "stderr",
     "output_type": "stream",
     "text": [
      "category:   0%|          | 0/2 [00:00<?, ?it/s]\n",
      "question:   0%|          | 0/2 [00:00<?, ?it/s]\n",
      "question:  50%|█████     | 1/2 [00:01<00:01,  2.00s/it]\n",
      "question: 100%|██████████| 2/2 [00:03<00:00,  1.92s/it]\n",
      "category:  50%|█████     | 1/2 [00:03<00:03,  3.88s/it]\n",
      "question:   0%|          | 0/2 [00:00<?, ?it/s]\n",
      "question:  50%|█████     | 1/2 [00:01<00:01,  1.31s/it]\n",
      "                                                       \r"
     ]
    },
    {
     "name": "stdout",
     "output_type": "stream",
     "text": [
      "file \"sample.gift.txt\" created\n",
      "you *should* copy:\n",
      "sample_images/1D_3_elements.svg to public_html/example/sample_images in hidra1\n",
      "sample_images/quixote.svg to public_html/example/sample_images in hidra1\n",
      "processing /home/manu/Sync/git/gift-wrapper/testing/2/first_midterm.yaml...\n",
      "--------------------\n"
     ]
    },
    {
     "name": "stderr",
     "output_type": "stream",
     "text": [
      "category:   0%|          | 0/1 [00:00<?, ?it/s]\n",
      "question:   0%|          | 0/8 [00:00<?, ?it/s]\n",
      "question:  12%|█▎        | 1/8 [00:11<01:17, 11.04s/it]\n",
      "question:  25%|██▌       | 2/8 [00:20<01:00, 10.11s/it]\n",
      "question:  38%|███▊      | 3/8 [00:30<00:49,  9.89s/it]\n",
      "question:  50%|█████     | 4/8 [00:40<00:40, 10.13s/it]\n",
      "question:  62%|██████▎   | 5/8 [00:50<00:30, 10.10s/it]\n",
      "question:  75%|███████▌  | 6/8 [01:00<00:20, 10.12s/it]\n",
      "question:  88%|████████▊ | 7/8 [01:10<00:09,  9.94s/it]\n",
      "question: 100%|██████████| 8/8 [01:19<00:00,  9.81s/it]\n",
      "                                                       \r"
     ]
    },
    {
     "name": "stdout",
     "output_type": "stream",
     "text": [
      "file \"first_midterm.gift.txt\" created\n",
      "you *should* copy:\n",
      "constellations/1D_2_elements.svg to public_html/tc/midterm2/constellations in hidra1\n",
      "processing /home/manu/Sync/git/gift-wrapper/testing/3/first_midterm.yaml...\n",
      "--------------------\n"
     ]
    },
    {
     "name": "stderr",
     "output_type": "stream",
     "text": [
      "category:   0%|          | 0/4 [00:00<?, ?it/s]\n",
      "question:   0%|          | 0/4 [00:00<?, ?it/s]\n",
      "question:  25%|██▌       | 1/4 [00:22<01:07, 22.60s/it]\n",
      "question:  50%|█████     | 2/4 [00:45<00:45, 22.78s/it]\n",
      "question:  75%|███████▌  | 3/4 [01:08<00:22, 22.80s/it]\n",
      "question: 100%|██████████| 4/4 [01:31<00:00, 23.01s/it]\n",
      "category:  25%|██▌       | 1/4 [01:31<04:35, 91.67s/it]\n",
      "question:   0%|          | 0/17 [00:00<?, ?it/s]\n",
      "question:   6%|▌         | 1/17 [00:43<11:32, 43.30s/it]\n",
      "question:  12%|█▏        | 2/17 [01:26<10:46, 43.11s/it]\n",
      "question:  18%|█▊        | 3/17 [02:10<10:13, 43.81s/it]\n",
      "question:  24%|██▎       | 4/17 [02:53<09:22, 43.29s/it]\n",
      "question:  29%|██▉       | 5/17 [03:41<09:02, 45.20s/it]\n",
      "question:  35%|███▌      | 6/17 [04:26<08:12, 44.82s/it]\n",
      "question:  41%|████      | 7/17 [05:06<07:13, 43.39s/it]\n",
      "question:  47%|████▋     | 8/17 [05:47<06:22, 42.52s/it]\n",
      "question:  53%|█████▎    | 9/17 [06:28<05:36, 42.07s/it]\n",
      "question:  59%|█████▉    | 10/17 [07:10<04:53, 41.98s/it]\n",
      "question:  65%|██████▍   | 11/17 [07:52<04:11, 41.97s/it]\n",
      "question:  71%|███████   | 12/17 [08:33<03:29, 41.91s/it]\n",
      "question:  76%|███████▋  | 13/17 [09:16<02:48, 42.04s/it]\n",
      "question:  82%|████████▏ | 14/17 [09:58<02:06, 42.13s/it]\n",
      "question:  88%|████████▊ | 15/17 [10:41<01:24, 42.34s/it]\n",
      "question:  94%|█████████▍| 16/17 [11:24<00:42, 42.68s/it]\n",
      "question: 100%|██████████| 17/17 [12:08<00:00, 42.91s/it]\n",
      "category:  50%|█████     | 2/4 [13:39<15:32, 466.11s/it] \n",
      "question:   0%|          | 0/5 [00:00<?, ?it/s]\n",
      "                                               \n",
      "question:   0%|          | 0/7 [00:00<?, ?it/s]\n",
      "question:  14%|█▍        | 1/7 [00:05<00:35,  5.93s/it]\n",
      "question:  29%|██▊       | 2/7 [00:12<00:30,  6.06s/it]\n",
      "question:  43%|████▎     | 3/7 [00:18<00:24,  6.00s/it]\n",
      "question:  57%|█████▋    | 4/7 [00:24<00:18,  6.02s/it]\n",
      "question:  71%|███████▏  | 5/7 [00:30<00:12,  6.18s/it]\n",
      "question:  86%|████████▌ | 6/7 [00:36<00:06,  6.25s/it]\n",
      "question: 100%|██████████| 7/7 [00:43<00:00,  6.21s/it]\n",
      "                                                        \r"
     ]
    },
    {
     "name": "stdout",
     "output_type": "stream",
     "text": [
      "file \"first_midterm.gift.txt\" created\n",
      "you *should* copy:\n",
      "graph_dijkstra_56.svg to public_html/tatsc/midterm in hidra1\n",
      "tanner_graph_42.svg to public_html/tatsc/midterm in hidra1\n",
      "tanner_graph_52.svg to public_html/tatsc/midterm in hidra1\n",
      "tanner_graph_55.svg to public_html/tatsc/midterm in hidra1\n",
      "tanner_graph_60.svg to public_html/tatsc/midterm in hidra1\n",
      "tanner_graph_66.svg to public_html/tatsc/midterm in hidra1\n",
      "tanner_graph_88.svg to public_html/tatsc/midterm in hidra1\n",
      "tanner_graph_99.svg to public_html/tatsc/midterm in hidra1\n",
      "processing /home/manu/Sync/git/gift-wrapper/testing/4/primer_parcial.yaml...\n",
      "--------------------\n"
     ]
    },
    {
     "name": "stderr",
     "output_type": "stream",
     "text": [
      "category:   0%|          | 0/5 [00:00<?, ?it/s]\n",
      "question:   0%|          | 0/3 [00:00<?, ?it/s]\n",
      "                                               \n",
      "question:   0%|          | 0/18 [00:00<?, ?it/s]\n",
      "                                                \n",
      "question:   0%|          | 0/5 [00:00<?, ?it/s]\n",
      "question:  20%|██        | 1/5 [00:46<03:04, 46.08s/it]\n",
      "question:  40%|████      | 2/5 [01:29<02:13, 44.36s/it]\n",
      "question:  60%|██████    | 3/5 [02:12<01:28, 44.06s/it]\n",
      "question:  80%|████████  | 4/5 [02:57<00:44, 44.08s/it]\n",
      "question: 100%|██████████| 5/5 [03:41<00:00, 44.31s/it]\n",
      "category:  60%|██████    | 3/5 [03:41<02:27, 73.93s/it]\n",
      "question:   0%|          | 0/17 [00:00<?, ?it/s]\n",
      "question:   6%|▌         | 1/17 [00:21<05:39, 21.19s/it]\n",
      "question:  12%|█▏        | 2/17 [00:42<05:22, 21.47s/it]\n",
      "question:  18%|█▊        | 3/17 [01:03<04:56, 21.20s/it]\n",
      "question:  24%|██▎       | 4/17 [01:24<04:32, 21.00s/it]\n",
      "question:  29%|██▉       | 5/17 [01:45<04:10, 20.88s/it]\n",
      "question:  35%|███▌      | 6/17 [02:07<03:55, 21.39s/it]\n",
      "question:  41%|████      | 7/17 [02:33<03:47, 22.76s/it]\n",
      "question:  47%|████▋     | 8/17 [02:57<03:30, 23.44s/it]\n",
      "question:  53%|█████▎    | 9/17 [03:23<03:11, 23.98s/it]\n",
      "question:  59%|█████▉    | 10/17 [03:47<02:48, 24.10s/it]\n",
      "question:  65%|██████▍   | 11/17 [04:12<02:25, 24.32s/it]\n",
      "question:  71%|███████   | 12/17 [04:38<02:04, 24.82s/it]\n",
      "question:  76%|███████▋  | 13/17 [05:04<01:41, 25.34s/it]\n",
      "question:  82%|████████▏ | 14/17 [05:30<01:16, 25.58s/it]\n",
      "question:  88%|████████▊ | 15/17 [05:58<00:52, 26.09s/it]\n",
      "question:  94%|█████████▍| 16/17 [06:25<00:26, 26.45s/it]\n",
      "question: 100%|██████████| 17/17 [06:53<00:00, 26.88s/it]\n",
      "category:  80%|████████  | 4/5 [10:35<03:03, 183.43s/it] \n",
      "question:   0%|          | 0/5 [00:00<?, ?it/s]\n",
      "question:  20%|██        | 1/5 [00:14<00:57, 14.38s/it]\n",
      "question:  40%|████      | 2/5 [00:29<00:44, 14.84s/it]\n",
      "question:  60%|██████    | 3/5 [00:44<00:29, 14.68s/it]\n",
      "question:  80%|████████  | 4/5 [00:58<00:14, 14.64s/it]\n",
      "question: 100%|██████████| 5/5 [01:13<00:00, 14.70s/it]\n",
      "                                                        \r"
     ]
    },
    {
     "name": "stdout",
     "output_type": "stream",
     "text": [
      "file \"primer_parcial.gift.txt\" created\n",
      "you *should* copy:\n",
      "graph_dijkstra_1_236.svg to public_html/tatsc/parcial in hidra1\n",
      "graph_dijkstra_2_36.svg to public_html/tatsc/parcial in hidra1\n",
      "trellis_333321.svg to public_html/tatsc/parcial in hidra1\n",
      "trellis_133231.svg to public_html/tatsc/parcial in hidra1\n",
      "trellis_163.svg to public_html/tatsc/parcial in hidra1\n",
      "trellis_767.svg to public_html/tatsc/parcial in hidra1\n",
      "trellis_1635.svg to public_html/tatsc/parcial in hidra1\n"
     ]
    }
   ],
   "source": [
    "for subdir, filename in subdir_filename:\n",
    "\n",
    "    # the whole directory\n",
    "    dir = cwd / subdir\n",
    "\n",
    "    # full path\n",
    "    input_file = dir / filename\n",
    "    assert input_file.exists()\n",
    "\n",
    "    print(f'processing {input_file}...')\n",
    "    print('-'*20)\n",
    "\n",
    "    # changing to the appropriate directory\n",
    "    os.chdir(dir)\n",
    "\n",
    "    # the specified input file is processed\n",
    "    gift_wrapper.core.wrap(parameters_file.as_posix(), input_file.name, local_run=True, embed_images=False, no_checks=False)\n",
    "\n",
    "    # the output file produced\n",
    "    output_file = input_file.with_suffix('.gift.txt')\n",
    "    assert output_file.exists()\n",
    "\n",
    "    # the newly produced file is compared against the (desired) reference one\n",
    "    assert filecmp.cmp(dir / desired_output_file, output_file), f'the output for {input_file} has changed'\n",
    "    \n",
    "    # output file is deleted\n",
    "    output_file.unlink()"
   ]
  }
 ],
 "metadata": {
  "kernelspec": {
   "display_name": "gift",
   "language": "python",
   "name": "python3"
  },
  "language_info": {
   "codemirror_mode": {
    "name": "ipython",
    "version": 3
   },
   "file_extension": ".py",
   "mimetype": "text/x-python",
   "name": "python",
   "nbconvert_exporter": "python",
   "pygments_lexer": "ipython3",
   "version": "3.11.0"
  },
  "orig_nbformat": 4
 },
 "nbformat": 4,
 "nbformat_minor": 2
}
